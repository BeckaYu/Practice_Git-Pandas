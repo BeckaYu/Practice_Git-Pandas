{
 "cells": [
  {
   "cell_type": "markdown",
   "metadata": {},
   "source": [
    "# Housing Market"
   ]
  },
  {
   "cell_type": "markdown",
   "metadata": {},
   "source": [
    "### Introduction:\n",
    "\n",
    "This time we will create our own dataset with fictional numbers to describe a house market. As we are going to create random data don't try to reason of the numbers.\n",
    "\n",
    "### Step 1. Import the necessary libraries"
   ]
  },
  {
   "cell_type": "code",
   "execution_count": 1,
   "metadata": {
    "collapsed": false
   },
   "outputs": [],
   "source": [
    "import pandas as pd\n",
    "import numpy as np"
   ]
  },
  {
   "cell_type": "markdown",
   "metadata": {},
   "source": [
    "### Step 2. Create 3 differents Series, each of length 100, as follows: \n",
    "1. The first a random number from 1 to 4 \n",
    "2. The second a random number from 1 to 3\n",
    "3. The third a random number from 10,000 to 30,000"
   ]
  },
  {
   "cell_type": "code",
   "execution_count": 2,
   "metadata": {
    "collapsed": false
   },
   "outputs": [],
   "source": [
    "s1 = pd.Series(np.random.randint(1, 5, size=100))\n",
    "s2 = pd.Series(np.random.randint(1, 4, size=100))\n",
    "s3 = pd.Series(np.random.randint(10000, 30001, size=100))"
   ]
  },
  {
   "cell_type": "markdown",
   "metadata": {},
   "source": [
    "### Step 3. Let's create a DataFrame by joinning the Series by column"
   ]
  },
  {
   "cell_type": "code",
   "execution_count": 3,
   "metadata": {
    "collapsed": false
   },
   "outputs": [
    {
     "data": {
      "application/vnd.microsoft.datawrangler.viewer.v0+json": {
       "columns": [
        {
         "name": "index",
         "rawType": "int64",
         "type": "integer"
        },
        {
         "name": "0",
         "rawType": "int64",
         "type": "integer"
        },
        {
         "name": "1",
         "rawType": "int64",
         "type": "integer"
        },
        {
         "name": "2",
         "rawType": "int64",
         "type": "integer"
        }
       ],
       "ref": "21e7ab10-7c99-40e6-b230-36160ed38847",
       "rows": [
        [
         "0",
         "2",
         "2",
         "24611"
        ],
        [
         "1",
         "4",
         "2",
         "22593"
        ],
        [
         "2",
         "1",
         "1",
         "28431"
        ],
        [
         "3",
         "1",
         "3",
         "25053"
        ],
        [
         "4",
         "2",
         "3",
         "28601"
        ],
        [
         "5",
         "3",
         "1",
         "14700"
        ],
        [
         "6",
         "2",
         "2",
         "10986"
        ],
        [
         "7",
         "3",
         "1",
         "27871"
        ],
        [
         "8",
         "3",
         "1",
         "12119"
        ],
        [
         "9",
         "3",
         "3",
         "22809"
        ]
       ],
       "shape": {
        "columns": 3,
        "rows": 10
       }
      },
      "text/html": [
       "<div>\n",
       "<style scoped>\n",
       "    .dataframe tbody tr th:only-of-type {\n",
       "        vertical-align: middle;\n",
       "    }\n",
       "\n",
       "    .dataframe tbody tr th {\n",
       "        vertical-align: top;\n",
       "    }\n",
       "\n",
       "    .dataframe thead th {\n",
       "        text-align: right;\n",
       "    }\n",
       "</style>\n",
       "<table border=\"1\" class=\"dataframe\">\n",
       "  <thead>\n",
       "    <tr style=\"text-align: right;\">\n",
       "      <th></th>\n",
       "      <th>0</th>\n",
       "      <th>1</th>\n",
       "      <th>2</th>\n",
       "    </tr>\n",
       "  </thead>\n",
       "  <tbody>\n",
       "    <tr>\n",
       "      <th>0</th>\n",
       "      <td>2</td>\n",
       "      <td>2</td>\n",
       "      <td>24611</td>\n",
       "    </tr>\n",
       "    <tr>\n",
       "      <th>1</th>\n",
       "      <td>4</td>\n",
       "      <td>2</td>\n",
       "      <td>22593</td>\n",
       "    </tr>\n",
       "    <tr>\n",
       "      <th>2</th>\n",
       "      <td>1</td>\n",
       "      <td>1</td>\n",
       "      <td>28431</td>\n",
       "    </tr>\n",
       "    <tr>\n",
       "      <th>3</th>\n",
       "      <td>1</td>\n",
       "      <td>3</td>\n",
       "      <td>25053</td>\n",
       "    </tr>\n",
       "    <tr>\n",
       "      <th>4</th>\n",
       "      <td>2</td>\n",
       "      <td>3</td>\n",
       "      <td>28601</td>\n",
       "    </tr>\n",
       "    <tr>\n",
       "      <th>5</th>\n",
       "      <td>3</td>\n",
       "      <td>1</td>\n",
       "      <td>14700</td>\n",
       "    </tr>\n",
       "    <tr>\n",
       "      <th>6</th>\n",
       "      <td>2</td>\n",
       "      <td>2</td>\n",
       "      <td>10986</td>\n",
       "    </tr>\n",
       "    <tr>\n",
       "      <th>7</th>\n",
       "      <td>3</td>\n",
       "      <td>1</td>\n",
       "      <td>27871</td>\n",
       "    </tr>\n",
       "    <tr>\n",
       "      <th>8</th>\n",
       "      <td>3</td>\n",
       "      <td>1</td>\n",
       "      <td>12119</td>\n",
       "    </tr>\n",
       "    <tr>\n",
       "      <th>9</th>\n",
       "      <td>3</td>\n",
       "      <td>3</td>\n",
       "      <td>22809</td>\n",
       "    </tr>\n",
       "  </tbody>\n",
       "</table>\n",
       "</div>"
      ],
      "text/plain": [
       "   0  1      2\n",
       "0  2  2  24611\n",
       "1  4  2  22593\n",
       "2  1  1  28431\n",
       "3  1  3  25053\n",
       "4  2  3  28601\n",
       "5  3  1  14700\n",
       "6  2  2  10986\n",
       "7  3  1  27871\n",
       "8  3  1  12119\n",
       "9  3  3  22809"
      ]
     },
     "execution_count": 3,
     "metadata": {},
     "output_type": "execute_result"
    }
   ],
   "source": [
    "df = pd.concat([s1, s2, s3], axis=1)\n",
    "df.head(10)"
   ]
  },
  {
   "cell_type": "markdown",
   "metadata": {},
   "source": [
    "### Step 4. Change the name of the columns to bedrs, bathrs, price_sqr_meter"
   ]
  },
  {
   "cell_type": "code",
   "execution_count": 4,
   "metadata": {
    "collapsed": false
   },
   "outputs": [
    {
     "data": {
      "application/vnd.microsoft.datawrangler.viewer.v0+json": {
       "columns": [
        {
         "name": "index",
         "rawType": "int64",
         "type": "integer"
        },
        {
         "name": "bedrs",
         "rawType": "int64",
         "type": "integer"
        },
        {
         "name": "baths",
         "rawType": "int64",
         "type": "integer"
        },
        {
         "name": "price_sqr_meter",
         "rawType": "int64",
         "type": "integer"
        }
       ],
       "ref": "3317a213-53a0-4866-a1aa-625ca523a2db",
       "rows": [
        [
         "0",
         "2",
         "2",
         "24611"
        ],
        [
         "1",
         "4",
         "2",
         "22593"
        ],
        [
         "2",
         "1",
         "1",
         "28431"
        ],
        [
         "3",
         "1",
         "3",
         "25053"
        ],
        [
         "4",
         "2",
         "3",
         "28601"
        ],
        [
         "5",
         "3",
         "1",
         "14700"
        ],
        [
         "6",
         "2",
         "2",
         "10986"
        ],
        [
         "7",
         "3",
         "1",
         "27871"
        ],
        [
         "8",
         "3",
         "1",
         "12119"
        ],
        [
         "9",
         "3",
         "3",
         "22809"
        ],
        [
         "10",
         "1",
         "2",
         "12074"
        ],
        [
         "11",
         "4",
         "1",
         "23381"
        ],
        [
         "12",
         "4",
         "1",
         "23782"
        ],
        [
         "13",
         "3",
         "2",
         "14684"
        ],
        [
         "14",
         "2",
         "1",
         "28949"
        ],
        [
         "15",
         "4",
         "3",
         "10296"
        ],
        [
         "16",
         "4",
         "2",
         "19627"
        ],
        [
         "17",
         "3",
         "2",
         "22600"
        ],
        [
         "18",
         "2",
         "1",
         "15265"
        ],
        [
         "19",
         "1",
         "3",
         "13464"
        ],
        [
         "20",
         "1",
         "1",
         "12799"
        ],
        [
         "21",
         "3",
         "2",
         "19611"
        ],
        [
         "22",
         "1",
         "1",
         "10725"
        ],
        [
         "23",
         "3",
         "2",
         "18151"
        ],
        [
         "24",
         "2",
         "2",
         "23552"
        ],
        [
         "25",
         "4",
         "1",
         "26240"
        ],
        [
         "26",
         "1",
         "3",
         "13214"
        ],
        [
         "27",
         "4",
         "1",
         "27021"
        ],
        [
         "28",
         "4",
         "2",
         "29072"
        ],
        [
         "29",
         "2",
         "3",
         "11595"
        ],
        [
         "30",
         "3",
         "2",
         "29721"
        ],
        [
         "31",
         "3",
         "3",
         "20683"
        ],
        [
         "32",
         "2",
         "2",
         "15571"
        ],
        [
         "33",
         "3",
         "2",
         "29598"
        ],
        [
         "34",
         "1",
         "1",
         "12337"
        ],
        [
         "35",
         "3",
         "2",
         "24479"
        ],
        [
         "36",
         "4",
         "3",
         "21711"
        ],
        [
         "37",
         "4",
         "3",
         "19746"
        ],
        [
         "38",
         "2",
         "1",
         "13327"
        ],
        [
         "39",
         "1",
         "1",
         "10026"
        ],
        [
         "40",
         "4",
         "1",
         "21032"
        ],
        [
         "41",
         "3",
         "2",
         "24650"
        ],
        [
         "42",
         "4",
         "1",
         "18913"
        ],
        [
         "43",
         "3",
         "3",
         "25607"
        ],
        [
         "44",
         "1",
         "1",
         "21852"
        ],
        [
         "45",
         "4",
         "1",
         "28084"
        ],
        [
         "46",
         "1",
         "3",
         "13446"
        ],
        [
         "47",
         "3",
         "1",
         "12534"
        ],
        [
         "48",
         "2",
         "3",
         "11330"
        ],
        [
         "49",
         "4",
         "1",
         "11649"
        ]
       ],
       "shape": {
        "columns": 3,
        "rows": 100
       }
      },
      "text/html": [
       "<div>\n",
       "<style scoped>\n",
       "    .dataframe tbody tr th:only-of-type {\n",
       "        vertical-align: middle;\n",
       "    }\n",
       "\n",
       "    .dataframe tbody tr th {\n",
       "        vertical-align: top;\n",
       "    }\n",
       "\n",
       "    .dataframe thead th {\n",
       "        text-align: right;\n",
       "    }\n",
       "</style>\n",
       "<table border=\"1\" class=\"dataframe\">\n",
       "  <thead>\n",
       "    <tr style=\"text-align: right;\">\n",
       "      <th></th>\n",
       "      <th>bedrs</th>\n",
       "      <th>baths</th>\n",
       "      <th>price_sqr_meter</th>\n",
       "    </tr>\n",
       "  </thead>\n",
       "  <tbody>\n",
       "    <tr>\n",
       "      <th>0</th>\n",
       "      <td>2</td>\n",
       "      <td>2</td>\n",
       "      <td>24611</td>\n",
       "    </tr>\n",
       "    <tr>\n",
       "      <th>1</th>\n",
       "      <td>4</td>\n",
       "      <td>2</td>\n",
       "      <td>22593</td>\n",
       "    </tr>\n",
       "    <tr>\n",
       "      <th>2</th>\n",
       "      <td>1</td>\n",
       "      <td>1</td>\n",
       "      <td>28431</td>\n",
       "    </tr>\n",
       "    <tr>\n",
       "      <th>3</th>\n",
       "      <td>1</td>\n",
       "      <td>3</td>\n",
       "      <td>25053</td>\n",
       "    </tr>\n",
       "    <tr>\n",
       "      <th>4</th>\n",
       "      <td>2</td>\n",
       "      <td>3</td>\n",
       "      <td>28601</td>\n",
       "    </tr>\n",
       "    <tr>\n",
       "      <th>...</th>\n",
       "      <td>...</td>\n",
       "      <td>...</td>\n",
       "      <td>...</td>\n",
       "    </tr>\n",
       "    <tr>\n",
       "      <th>95</th>\n",
       "      <td>4</td>\n",
       "      <td>1</td>\n",
       "      <td>11962</td>\n",
       "    </tr>\n",
       "    <tr>\n",
       "      <th>96</th>\n",
       "      <td>1</td>\n",
       "      <td>2</td>\n",
       "      <td>10511</td>\n",
       "    </tr>\n",
       "    <tr>\n",
       "      <th>97</th>\n",
       "      <td>4</td>\n",
       "      <td>2</td>\n",
       "      <td>24187</td>\n",
       "    </tr>\n",
       "    <tr>\n",
       "      <th>98</th>\n",
       "      <td>1</td>\n",
       "      <td>2</td>\n",
       "      <td>29778</td>\n",
       "    </tr>\n",
       "    <tr>\n",
       "      <th>99</th>\n",
       "      <td>2</td>\n",
       "      <td>1</td>\n",
       "      <td>11992</td>\n",
       "    </tr>\n",
       "  </tbody>\n",
       "</table>\n",
       "<p>100 rows × 3 columns</p>\n",
       "</div>"
      ],
      "text/plain": [
       "    bedrs  baths  price_sqr_meter\n",
       "0       2      2            24611\n",
       "1       4      2            22593\n",
       "2       1      1            28431\n",
       "3       1      3            25053\n",
       "4       2      3            28601\n",
       "..    ...    ...              ...\n",
       "95      4      1            11962\n",
       "96      1      2            10511\n",
       "97      4      2            24187\n",
       "98      1      2            29778\n",
       "99      2      1            11992\n",
       "\n",
       "[100 rows x 3 columns]"
      ]
     },
     "execution_count": 4,
     "metadata": {},
     "output_type": "execute_result"
    }
   ],
   "source": [
    "df = pd.concat([s1, s2, s3], axis=1, keys=['bedrs','baths','price_sqr_meter'])\n",
    "df"
   ]
  },
  {
   "cell_type": "markdown",
   "metadata": {},
   "source": [
    "### Step 5. Create a one column DataFrame with the values of the 3 Series and assign it to 'bigcolumn'"
   ]
  },
  {
   "cell_type": "code",
   "execution_count": 5,
   "metadata": {
    "collapsed": false
   },
   "outputs": [
    {
     "data": {
      "text/plain": [
       "300"
      ]
     },
     "execution_count": 5,
     "metadata": {},
     "output_type": "execute_result"
    }
   ],
   "source": [
    "df_col = pd.concat([s1, s2, s3])\n",
    "type(df_col)\n",
    "bigcolumn = df_col.to_frame()\n",
    "bigcolumn.size"
   ]
  },
  {
   "cell_type": "markdown",
   "metadata": {},
   "source": [
    "### Step 6. Oops, it seems it is going only until index 99. Is it true?"
   ]
  },
  {
   "cell_type": "code",
   "execution_count": 6,
   "metadata": {
    "collapsed": false
   },
   "outputs": [
    {
     "data": {
      "text/plain": [
       "300"
      ]
     },
     "execution_count": 6,
     "metadata": {},
     "output_type": "execute_result"
    }
   ],
   "source": [
    "bigcolumn.size"
   ]
  },
  {
   "cell_type": "markdown",
   "metadata": {},
   "source": [
    "### Step 7. Reindex the DataFrame so it goes from 0 to 299"
   ]
  },
  {
   "cell_type": "code",
   "execution_count": 8,
   "metadata": {
    "collapsed": false
   },
   "outputs": [
    {
     "data": {
      "text/plain": [
       "RangeIndex(start=0, stop=300, step=1)"
      ]
     },
     "execution_count": 8,
     "metadata": {},
     "output_type": "execute_result"
    }
   ],
   "source": [
    "bigcolumn.reset_index(drop=True,inplace=True)\n",
    "bigcolumn.index"
   ]
  }
 ],
 "metadata": {
  "kernelspec": {
   "display_name": "Python (base)",
   "language": "python",
   "name": "base"
  },
  "language_info": {
   "codemirror_mode": {
    "name": "ipython",
    "version": 3
   },
   "file_extension": ".py",
   "mimetype": "text/x-python",
   "name": "python",
   "nbconvert_exporter": "python",
   "pygments_lexer": "ipython3",
   "version": "3.12.2"
  }
 },
 "nbformat": 4,
 "nbformat_minor": 0
}
